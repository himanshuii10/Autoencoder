{
  "nbformat": 4,
  "nbformat_minor": 0,
  "metadata": {
    "colab": {
      "provenance": []
    },
    "kernelspec": {
      "name": "python3",
      "display_name": "Python 3"
    },
    "language_info": {
      "name": "python"
    }
  },
  "cells": [
    {
      "cell_type": "code",
      "execution_count": null,
      "metadata": {
        "id": "09ujZmr4CS5k"
      },
      "outputs": [],
      "source": [
        "#Importing Libraries\n",
        "import numpy as np\n",
        "import matplotlib.pyplot as plt\n",
        "from keras.datasets import mnist\n",
        "from keras import layers, models, Input\n",
        "from keras.layers import Dense\n",
        "from keras.optimizers import Adam"
      ]
    },
    {
      "cell_type": "markdown",
      "source": [
        "**Explanation:**\n",
        "\n",
        "**numpy as np:** Used for numerical operations and array manipulations.\n",
        "matplotlib.pyplot as plt: Used for plotting and visualizing images and graphs.\n",
        "\n",
        "**from keras.datasets import mnist:** Imports the MNIST dataset directly from Keras. MNIST is a dataset of 70,000 handwritten digits (28x28 pixels) ranging from 0 to 9.\n",
        "\n",
        "**from keras import layers, models, Input: Imports necessary classes for building the neural network.**\n",
        "\n",
        "**layers:** Provides different types of neural network layers.\n",
        "\n",
        "**models:** Used for creating and managing models.\n",
        "\n",
        "**Input:** Used to instantiate a Keras tensor.\n",
        "\n",
        "**from keras.optimizers import Adam:** Imports the Adam optimizer, a popular optimization algorithm for training neural networks"
      ],
      "metadata": {
        "id": "SrpZfpmYnVPI"
      }
    },
    {
      "cell_type": "markdown",
      "source": [
        "**Then we will build our model and we will provide the number of dimensions that will decide how much the input will be compressed. The lesser the dimension, the more will be the compression.**"
      ],
      "metadata": {
        "id": "ZknmA6dRCjKZ"
      }
    },
    {
      "cell_type": "code",
      "source": [
        "#Loading and Preprocessing the Data\n",
        "# Load and preprocess the MNIST dataset\n",
        "# We only need the images, so we discard the labels (denoted by '_')\n",
        "(x_train, _), (x_test, _) = mnist.load_data()"
      ],
      "metadata": {
        "id": "JH8tBrmCCoch"
      },
      "execution_count": null,
      "outputs": []
    },
    {
      "cell_type": "markdown",
      "source": [
        "**Explanation:**\n",
        "\n",
        "**mnist.load_data():** Loads the MNIST dataset and returns two tuples:\n",
        "\n",
        "**(x_train, y_train):** Training images and their labels.\n",
        "\n",
        "**(x_test, y_test):** Testing images and their labels.\n",
        "We only need the images for an autoencoder (unsupervised learning), so we discard the labels using _."
      ],
      "metadata": {
        "id": "iSw77fo4n8zn"
      }
    },
    {
      "cell_type": "code",
      "source": [
        "# Normalize the images to values between 0 and 1 and flatten them\n",
        "x_train = x_train.astype('float32') / 255.\n",
        "x_train = x_train.reshape(-1, 784)  # 28*28=784\n",
        "x_test = x_test.astype('float32') / 255.\n",
        "x_test = x_test.reshape(-1, 784)"
      ],
      "metadata": {
        "id": "2i9z9truoGqW"
      },
      "execution_count": null,
      "outputs": []
    },
    {
      "cell_type": "markdown",
      "source": [
        "**Explanation:**\n",
        "\n",
        "**Normalization:**\n",
        "\n",
        "**x_train.astype('float32') / 255.:** Converts the pixel values from integers (0-255) to floating-point numbers between 0 and 1.\n",
        "\n",
        "\n",
        "**Reshaping:**\n",
        "\n",
        "**x_train.reshape(-1, 784):** Flattens each 28x28 image into a 1D array of 784 pixels.-1 tells NumPy to calculate the size of this dimension automatically based on the array's size and the other dimension specified.\n",
        "We perform the same steps for x_test."
      ],
      "metadata": {
        "id": "rDw-UcIqoKiu"
      }
    },
    {
      "cell_type": "markdown",
      "source": [
        "**Defining the Model Architecture**"
      ],
      "metadata": {
        "id": "3XkEGwfhqHOq"
      }
    },
    {
      "cell_type": "code",
      "source": [
        "\n",
        "# Input placeholder\n",
        "input_img = Input(shape=(784,))"
      ],
      "metadata": {
        "id": "tywwIuYeoX7-"
      },
      "execution_count": null,
      "outputs": []
    },
    {
      "cell_type": "markdown",
      "source": [
        "**Explanation:**\n",
        "\n",
        "Input(shape=(784,)): Creates a Keras tensor (placeholder) for input images, which are vectors of size 784 (flattened 28x28 images)."
      ],
      "metadata": {
        "id": "74w-KJQYqMJK"
      }
    },
    {
      "cell_type": "code",
      "source": [
        "# Define the dimension of the encoding (latent space) #add when classifier sequential is used\n",
        "# Encoder layers\n",
        "encoded = Dense(128, activation='relu')(input_img)\n",
        "encoded = Dense(64, activation='relu')(encoded)\n",
        "encoded = Dense(32, activation='relu')(encoded)"
      ],
      "metadata": {
        "id": "n6O3weF7oKON"
      },
      "execution_count": null,
      "outputs": []
    },
    {
      "cell_type": "markdown",
      "source": [
        "**Explanation:**\n",
        "\n",
        "**encoding_dim = 32:** Specifies the size of the encoding (latent space representation). We aim to compress the input to 32 dimensions.\n",
        "\n",
        "**layers.Dense(encoding_dim, activation='relu'):** Adds a densely-connected neural network layer with:\n",
        "encoding_dim neurons.\n",
        "\n",
        "**activation='relu':** Uses the Rectified Linear Unit activation function.\n",
        "(input_img): Connects this layer to the input_img tensor."
      ],
      "metadata": {
        "id": "FwigUiXzqkqN"
      }
    },
    {
      "cell_type": "code",
      "source": [
        "# Decoder layers\n",
        "decoded = Dense(64, activation='relu')(encoded)# back on image\n",
        "decoded = Dense(128, activation='relu')(decoded)\n",
        "decoded = Dense(784, activation='sigmoid')(decoded)\n"
      ],
      "metadata": {
        "id": "C2tVRE4urhMA"
      },
      "execution_count": null,
      "outputs": []
    },
    {
      "cell_type": "markdown",
      "source": [
        "**Explanation:**\n",
        "\n",
        "**layers.Dense(784, activation='sigmoid'):** Adds another densely-connected layer that aims to reconstruct the original input.\n",
        "784 neurons: Matches the original input size.\n",
        "\n",
        "**activation='sigmoid':** Outputs values between 0 and 1, matching the normalized pixel values.\n",
        "\n",
        "**(encoded):** Connects this layer to the output of the encoder."
      ],
      "metadata": {
        "id": "PTxKEwrcrz1K"
      }
    },
    {
      "cell_type": "code",
      "source": [
        "# Autoencoder model that maps input to its reconstruction\n",
        "autoencoder = models.Model(inputs=input_img, outputs=decoded)\n"
      ],
      "metadata": {
        "id": "s42EBWckru_7"
      },
      "execution_count": null,
      "outputs": []
    },
    {
      "cell_type": "markdown",
      "source": [
        "**Explanation:**\n",
        "\n",
        "**models.Model(inputs=input_img, outputs=decoded):**\n",
        "\n",
        "Defines the autoencoder model by specifying the input and output tensors.\n",
        "The model maps the input image to its reconstruction through the encoder and decoder"
      ],
      "metadata": {
        "id": "cY7ay5Kqr97p"
      }
    },
    {
      "cell_type": "code",
      "source": [
        "# Compile the model with an optimizer and loss function\n",
        "autoencoder.compile(optimizer=Adam(), loss='binary_crossentropy')\n"
      ],
      "metadata": {
        "id": "zf4POzIvsJ88"
      },
      "execution_count": null,
      "outputs": []
    },
    {
      "cell_type": "markdown",
      "source": [
        "**Explanation:**\n",
        "\n",
        "**autoencoder.compile(...):** Configures the learning process.\n",
        "optimizer=Adam(): Uses the Adam optimization algorithm, which adapts the learning rate during training.\n",
        "\n",
        "\n",
        "**loss='binary_crossentropy':** Uses binary crossentropy as the loss function, suitable for comparing binary or normalized pixel values."
      ],
      "metadata": {
        "id": "Lt5v8zoQsM9j"
      }
    },
    {
      "cell_type": "code",
      "source": [
        "# Train the autoencoder\n",
        "autoencoder.fit(x_train, x_train,\n",
        "                epochs=20,\n",
        "                batch_size=256,\n",
        "                shuffle=True,\n",
        "                validation_data=(x_test, x_test))\n"
      ],
      "metadata": {
        "colab": {
          "base_uri": "https://localhost:8080/"
        },
        "id": "BwKjE81jsWnr",
        "outputId": "9fc2eedc-d9e1-4fb8-a27b-51f32390300c"
      },
      "execution_count": null,
      "outputs": [
        {
          "output_type": "stream",
          "name": "stdout",
          "text": [
            "Epoch 1/20\n",
            "\u001b[1m235/235\u001b[0m \u001b[32m━━━━━━━━━━━━━━━━━━━━\u001b[0m\u001b[37m\u001b[0m \u001b[1m5s\u001b[0m 15ms/step - loss: 0.3412 - val_loss: 0.1683\n",
            "Epoch 2/20\n",
            "\u001b[1m235/235\u001b[0m \u001b[32m━━━━━━━━━━━━━━━━━━━━\u001b[0m\u001b[37m\u001b[0m \u001b[1m5s\u001b[0m 20ms/step - loss: 0.1591 - val_loss: 0.1385\n",
            "Epoch 3/20\n",
            "\u001b[1m235/235\u001b[0m \u001b[32m━━━━━━━━━━━━━━━━━━━━\u001b[0m\u001b[37m\u001b[0m \u001b[1m4s\u001b[0m 17ms/step - loss: 0.1368 - val_loss: 0.1266\n",
            "Epoch 4/20\n",
            "\u001b[1m235/235\u001b[0m \u001b[32m━━━━━━━━━━━━━━━━━━━━\u001b[0m\u001b[37m\u001b[0m \u001b[1m4s\u001b[0m 16ms/step - loss: 0.1266 - val_loss: 0.1209\n",
            "Epoch 5/20\n",
            "\u001b[1m235/235\u001b[0m \u001b[32m━━━━━━━━━━━━━━━━━━━━\u001b[0m\u001b[37m\u001b[0m \u001b[1m5s\u001b[0m 21ms/step - loss: 0.1206 - val_loss: 0.1150\n",
            "Epoch 6/20\n",
            "\u001b[1m235/235\u001b[0m \u001b[32m━━━━━━━━━━━━━━━━━━━━\u001b[0m\u001b[37m\u001b[0m \u001b[1m4s\u001b[0m 14ms/step - loss: 0.1153 - val_loss: 0.1101\n",
            "Epoch 7/20\n",
            "\u001b[1m235/235\u001b[0m \u001b[32m━━━━━━━━━━━━━━━━━━━━\u001b[0m\u001b[37m\u001b[0m \u001b[1m6s\u001b[0m 17ms/step - loss: 0.1105 - val_loss: 0.1065\n",
            "Epoch 8/20\n",
            "\u001b[1m235/235\u001b[0m \u001b[32m━━━━━━━━━━━━━━━━━━━━\u001b[0m\u001b[37m\u001b[0m \u001b[1m5s\u001b[0m 20ms/step - loss: 0.1072 - val_loss: 0.1036\n",
            "Epoch 9/20\n",
            "\u001b[1m235/235\u001b[0m \u001b[32m━━━━━━━━━━━━━━━━━━━━\u001b[0m\u001b[37m\u001b[0m \u001b[1m4s\u001b[0m 14ms/step - loss: 0.1044 - val_loss: 0.1018\n",
            "Epoch 10/20\n",
            "\u001b[1m235/235\u001b[0m \u001b[32m━━━━━━━━━━━━━━━━━━━━\u001b[0m\u001b[37m\u001b[0m \u001b[1m3s\u001b[0m 14ms/step - loss: 0.1024 - val_loss: 0.1001\n",
            "Epoch 11/20\n",
            "\u001b[1m235/235\u001b[0m \u001b[32m━━━━━━━━━━━━━━━━━━━━\u001b[0m\u001b[37m\u001b[0m \u001b[1m4s\u001b[0m 18ms/step - loss: 0.1009 - val_loss: 0.0987\n",
            "Epoch 12/20\n",
            "\u001b[1m235/235\u001b[0m \u001b[32m━━━━━━━━━━━━━━━━━━━━\u001b[0m\u001b[37m\u001b[0m \u001b[1m4s\u001b[0m 16ms/step - loss: 0.0997 - val_loss: 0.0976\n",
            "Epoch 13/20\n",
            "\u001b[1m235/235\u001b[0m \u001b[32m━━━━━━━━━━━━━━━━━━━━\u001b[0m\u001b[37m\u001b[0m \u001b[1m5s\u001b[0m 14ms/step - loss: 0.0986 - val_loss: 0.0967\n",
            "Epoch 14/20\n",
            "\u001b[1m235/235\u001b[0m \u001b[32m━━━━━━━━━━━━━━━━━━━━\u001b[0m\u001b[37m\u001b[0m \u001b[1m4s\u001b[0m 17ms/step - loss: 0.0972 - val_loss: 0.0960\n",
            "Epoch 15/20\n",
            "\u001b[1m235/235\u001b[0m \u001b[32m━━━━━━━━━━━━━━━━━━━━\u001b[0m\u001b[37m\u001b[0m \u001b[1m4s\u001b[0m 17ms/step - loss: 0.0963 - val_loss: 0.0946\n",
            "Epoch 16/20\n",
            "\u001b[1m235/235\u001b[0m \u001b[32m━━━━━━━━━━━━━━━━━━━━\u001b[0m\u001b[37m\u001b[0m \u001b[1m4s\u001b[0m 14ms/step - loss: 0.0958 - val_loss: 0.0941\n",
            "Epoch 17/20\n",
            "\u001b[1m235/235\u001b[0m \u001b[32m━━━━━━━━━━━━━━━━━━━━\u001b[0m\u001b[37m\u001b[0m \u001b[1m3s\u001b[0m 14ms/step - loss: 0.0947 - val_loss: 0.0934\n",
            "Epoch 18/20\n",
            "\u001b[1m235/235\u001b[0m \u001b[32m━━━━━━━━━━━━━━━━━━━━\u001b[0m\u001b[37m\u001b[0m \u001b[1m5s\u001b[0m 19ms/step - loss: 0.0941 - val_loss: 0.0932\n",
            "Epoch 19/20\n",
            "\u001b[1m235/235\u001b[0m \u001b[32m━━━━━━━━━━━━━━━━━━━━\u001b[0m\u001b[37m\u001b[0m \u001b[1m3s\u001b[0m 14ms/step - loss: 0.0935 - val_loss: 0.0921\n",
            "Epoch 20/20\n",
            "\u001b[1m235/235\u001b[0m \u001b[32m━━━━━━━━━━━━━━━━━━━━\u001b[0m\u001b[37m\u001b[0m \u001b[1m5s\u001b[0m 14ms/step - loss: 0.0927 - val_loss: 0.0916\n"
          ]
        },
        {
          "output_type": "execute_result",
          "data": {
            "text/plain": [
              "<keras.src.callbacks.history.History at 0x7e10521d2560>"
            ]
          },
          "metadata": {},
          "execution_count": 16
        }
      ]
    },
    {
      "cell_type": "markdown",
      "source": [
        "**Explanation:**\n",
        "\n",
        "**autoencoder.fit(...):** Trains the model on the training data.\n",
        "x_train, x_train: The model tries to predict x_train from x_train, as we're reconstructing the input.\n",
        "\n",
        "**epochs=20:** The number of times the entire training dataset will be passed through the network.\n",
        "\n",
        "**batch_size=256:** Number of samples per gradient update.\n",
        "shuffle=True: Shuffles the data before each epoch to improve training.\n",
        "\n",
        "v**alidation_data=(x_test, x_test):** Evaluates the loss and any model metrics on the test data at the end of each epoch.\n",
        "\n",
        "**Why Use x_train as Both Input and Target?**\n",
        "\n",
        "Since an autoencoder aims to reconstruct its input, the target output is the same as the input."
      ],
      "metadata": {
        "id": "DZp8jdHJsc87"
      }
    },
    {
      "cell_type": "code",
      "source": [
        "# Use the autoencoder to reconstruct the test images\n",
        "decoded_imgs = autoencoder.predict(x_test)\n"
      ],
      "metadata": {
        "colab": {
          "base_uri": "https://localhost:8080/"
        },
        "id": "nQf_8mmVspc2",
        "outputId": "3d7e40bf-6684-4c6d-a189-5e2fda88795b"
      },
      "execution_count": null,
      "outputs": [
        {
          "output_type": "stream",
          "name": "stdout",
          "text": [
            "\u001b[1m313/313\u001b[0m \u001b[32m━━━━━━━━━━━━━━━━━━━━\u001b[0m\u001b[37m\u001b[0m \u001b[1m1s\u001b[0m 2ms/step\n"
          ]
        }
      ]
    },
    {
      "cell_type": "markdown",
      "source": [
        "**Explanation:**\n",
        "\n",
        "**autoencoder.predict(x_test):** Uses the trained autoencoder to reconstruct the images in the test set.\n",
        "\n",
        "**decoded_imgs:** Contains the reconstructed images."
      ],
      "metadata": {
        "id": "YWk0Fj-sssQ8"
      }
    },
    {
      "cell_type": "code",
      "source": [
        "# Visualize the original and reconstructed images\n",
        "n = 10  # Number of images to display\n",
        "plt.figure(figsize=(20, 4))\n",
        "for i in range(n):\n",
        "    # Display original images\n",
        "    ax = plt.subplot(2, n, i + 1)\n",
        "    plt.imshow(x_test[i].reshape(28, 28), cmap='gray')\n",
        "    plt.title(\"Original\")\n",
        "    plt.axis('off')\n",
        "\n",
        "    # Display reconstructed images\n",
        "    ax = plt.subplot(2, n, i + 1 + n)\n",
        "    plt.imshow(decoded_imgs[i].reshape(28, 28), cmap='gray')\n",
        "    plt.title(\"Reconstructed\")\n",
        "    plt.axis('off')\n",
        "\n",
        "plt.show()\n"
      ],
      "metadata": {
        "colab": {
          "base_uri": "https://localhost:8080/",
          "height": 287
        },
        "id": "xrudvT-YsxyC",
        "outputId": "34938ced-c208-47ba-ddb0-7d214a09978d"
      },
      "execution_count": null,
      "outputs": [
        {
          "output_type": "display_data",
          "data": {
            "text/plain": [
              "<Figure size 2000x400 with 20 Axes>"
            ],
            "image/png": "[encoded data removed]"
          },
          "metadata": {}
        }
      ]
    },
    {
      "cell_type": "markdown",
      "source": [
        "**Explanation:**\n",
        "\n",
        "**n = 10:** Specifies the number of images to display.\n",
        "\n",
        "**plt.figure(figsize=(20, 4)):** Sets the size of the figure for plotting.\n",
        "\n",
        "**for i in range(n)::** Loops over the first n images in the test set.\n",
        "\n",
        "**Displaying Original Images:**\n",
        "**ax = plt.subplot(2, n, i + 1):** Creates a subplot in a grid with 2 rows and n columns. The first row will display original images.\n",
        "\n",
        "**plt.imshow(x_test[i].reshape(28, 28), cmap='gray'):** Displays the original image.\n",
        "\n",
        "**x_test[i].reshape(28, 28):** Reshapes the flattened image back to 28x28 pixels.\n",
        "\n",
        "***plt.title(\"Original\"): **\n",
        "*Sets the title of the subplot.\n",
        "\n",
        "**plt.axis('off'):** Hides the axis ticks and labels.\n",
        "\n",
        "**Displaying Reconstructed Images:**\n",
        "\n",
        "**ax = plt.subplot(2, n, i + 1 + n):** Positions the subplot in the second row.\n",
        "\n",
        "**plt.imshow(decoded_imgs[i].reshape(28, 28), cmap='gray'):** Displays the reconstructed image.\n",
        "\n",
        "**plt.title(\"Reconstructed\"):** Sets the title of the subplot.\n",
        "\n",
        "**plt.axis('off'):** Hides the axis ticks and labels.\n",
        "\n",
        "**plt.show():** Renders the plot to the screen.\n",
        "\n",
        "**What to Expect in the Visualization:**\n",
        "\n",
        "The top row shows the original test images.\n",
        "\n",
        "The bottom row shows the reconstructed images produced by the autoencoder.\n",
        "\n",
        "The reconstructed images may appear slightly blurred or less detailed, reflecting the compression and reconstruction process.\n"
      ],
      "metadata": {
        "id": "vNQ-ilWVs2ny"
      }
    },
    {
      "cell_type": "markdown",
      "source": [
        "**Additional Explanations**\n",
        "\n",
        "Understanding the Autoencoder's Functionality:\n",
        "Compression (Encoding):\n",
        "\n",
        "The encoder compresses the input data into a lower-dimensional representation (latent space). In this example, it reduces 784-dimensional input to 32 dimensions.\n",
        "\n",
        "\n",
        "**The network learns the most important features needed to reconstruct the input.**\n",
        "\n",
        "Reconstruction (Decoding):\n",
        "\n",
        "The decoder attempts to reconstruct the original input from the compressed representation.\n",
        "\n",
        "By training the network to minimize the loss between the input and output, it learns to capture essential patterns.\n",
        "\n",
        "\n",
        "Activation Functions:\n",
        "ReLU (Rectified Linear Unit):activation='relu' in the encoder layer.\n",
        "Introduces non-linearity, allowing the network to learn complex patterns.\n",
        "ReLU function: f(x) = max(0, x)\n",
        "\n",
        "\n",
        "Sigmoid:activation='sigmoid' in the decoder layer.\n",
        "Outputs values between 0 and 1, matching the normalized pixel values.\n",
        "Sigmoid function: f(x) = 1 / (1 + exp(-x))\n",
        "\n",
        "\n",
        "Loss Function:Binary Crossentropy:\n",
        "Suitable for comparing the similarity between the input and output images when pixel values are between 0 and 1.\n",
        "Measures the difference between two probability distributions.\n"
      ],
      "metadata": {
        "id": "rvmH3V7Gtm3i"
      }
    },
    {
      "cell_type": "markdown",
      "source": [],
      "metadata": {
        "id": "4p-PcUxVsKzi"
      }
    },
    {
      "cell_type": "markdown",
      "source": [
        "Understanding Keras APIs:\n",
        "\n",
        "In the Sequential API, layers are added to the model using model.add(layer).\n",
        "\n",
        "In the Functional API, layers are connected by calling them on tensors.\n",
        "Add Layer vs. add() Method:\n",
        "Add is a layer used for combining tensors.\n",
        "model.add() is a method in the Sequential API used to add layers to the model."
      ],
      "metadata": {
        "id": "98myKG3f2JxH"
      }
    }
  ]
}